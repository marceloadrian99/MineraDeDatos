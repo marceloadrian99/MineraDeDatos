{
 "cells": [
  {
   "cell_type": "markdown",
   "metadata": {},
   "source": [
    "# Ejercico 1\n",
    "## Realiza una variable con tu matricula y realiza una secuencia de imprimir con tu nombre y tu matricula concatenados."
   ]
  },
  {
   "cell_type": "code",
   "execution_count": 2,
   "metadata": {},
   "outputs": [
    {
     "name": "stdout",
     "output_type": "stream",
     "text": [
      "Marcelo Adrián López Peña 1803561\n"
     ]
    }
   ],
   "source": [
    "nomb = 'Marcelo Adrián López Peña'\n",
    "mat = 1803561\n",
    "print (nomb,mat)"
   ]
  },
  {
   "cell_type": "markdown",
   "metadata": {},
   "source": [
    "# Ejercicio 2\n",
    "## Pidiendo el input del usuario pide dos números y crea una pequeña calculadora con los operadores básicos de suma, resta, multiplicación, división, y exponente."
   ]
  },
  {
   "cell_type": "code",
   "execution_count": 11,
   "metadata": {},
   "outputs": [
    {
     "name": "stdout",
     "output_type": "stream",
     "text": [
      "ingrese el primer numero2\n",
      "ingrese el segundo numero3\n",
      " la Suma es:  5\n",
      " la Resta es:  -1\n",
      " la Multiplicación es:  6\n",
      " la División pn/sn es:  0.6666666666666666\n",
      " la División sn/pn es:  1.5\n",
      " pn elevado a la sn es:  8\n",
      " sn elevado a la pn es:  9\n"
     ]
    }
   ],
   "source": [
    "pn = int(input('ingrese el primer numero'))\n",
    "sn = int(input('ingrese el segundo numero'))\n",
    "\n",
    "\n",
    "print(' la Suma es: ', pn + sn)\n",
    "print(' la Resta es: ', pn - sn)\n",
    "print(' la Multiplicación es: ', pn * sn)\n",
    "print(' la División pn/sn es: ', pn / sn)\n",
    "print(' la División sn/pn es: ', sn / pn)\n",
    "print(' pn elevado a la sn es: ', pn ** sn)\n",
    "print(' sn elevado a la pn es: ', sn ** pn)"
   ]
  },
  {
   "cell_type": "markdown",
   "metadata": {},
   "source": [
    "# Ejercicio 3\n",
    "## con loop while o for, realiza una lista de 10 numeros multiplos de 3, y después realiza una función de loop que sume todos los números dentro del arreglo."
   ]
  },
  {
   "cell_type": "code",
   "execution_count": 15,
   "metadata": {},
   "outputs": [
    {
     "name": "stdout",
     "output_type": "stream",
     "text": [
      "lista de multiplos [3, 6, 9, 12, 15, 18, 21, 24, 27, 30]\n",
      "suma de multiplos 165\n"
     ]
    }
   ],
   "source": [
    "x = 0\n",
    "i = 1\n",
    "mult3 = []\n",
    "\n",
    "for i in range(1,11):\n",
    "    x = 3*i\n",
    "    mult3.append(x)\n",
    "    \n",
    "print('lista de multiplos', mult3)\n",
    "print('suma de multiplos', sum(mult3))\n"
   ]
  },
  {
   "cell_type": "markdown",
   "metadata": {},
   "source": [
    "# Ejercicio 4\n",
    "## Con una función de if else, revisar si un número es par o es impar.\n",
    "## Con una función de if else, revisar si un número es primo o no."
   ]
  },
  {
   "cell_type": "code",
   "execution_count": 18,
   "metadata": {},
   "outputs": [
    {
     "name": "stdout",
     "output_type": "stream",
     "text": [
      "ingrese un número3\n",
      "El número 3 es impar\n"
     ]
    }
   ],
   "source": [
    "numero = int(input('ingrese un número'))\n",
    "if primernum % 2 == 0:\n",
    "    print('El número', numero, 'es par')\n",
    "else:\n",
    "    print('El número', numero, 'es impar')"
   ]
  },
  {
   "cell_type": "code",
   "execution_count": 19,
   "metadata": {},
   "outputs": [
    {
     "ename": "NameError",
     "evalue": "name 'intput' is not defined",
     "output_type": "error",
     "traceback": [
      "\u001b[1;31m---------------------------------------------------------------------------\u001b[0m",
      "\u001b[1;31mNameError\u001b[0m                                 Traceback (most recent call last)",
      "\u001b[1;32m<ipython-input-19-4b7c872a6749>\u001b[0m in \u001b[0;36m<module>\u001b[1;34m\u001b[0m\n\u001b[1;32m----> 1\u001b[1;33m \u001b[0mnumero\u001b[0m \u001b[1;33m=\u001b[0m \u001b[0mint\u001b[0m\u001b[1;33m(\u001b[0m\u001b[0mintput\u001b[0m\u001b[1;33m(\u001b[0m\u001b[1;34m'ingrese un número'\u001b[0m\u001b[1;33m)\u001b[0m\u001b[1;33m)\u001b[0m\u001b[1;33m\u001b[0m\u001b[1;33m\u001b[0m\u001b[0m\n\u001b[0m",
      "\u001b[1;31mNameError\u001b[0m: name 'intput' is not defined"
     ]
    }
   ],
   "source": [
    "numero = int(intput('ingrese un número'))\n"
   ]
  },
  {
   "cell_type": "markdown",
   "metadata": {},
   "source": [
    "# Ejercicio 5\n",
    "## Utilizando diferentes clases en python, crea una calculadora con los operadores básicos de suma, resta, multiplicación, división, y exponente."
   ]
  },
  {
   "cell_type": "code",
   "execution_count": 20,
   "metadata": {},
   "outputs": [
    {
     "name": "stdout",
     "output_type": "stream",
     "text": [
      "ingrese el primer numero1\n",
      "ingrese el segundo numero1\n",
      " la Suma es:  2\n",
      " la Resta es:  0\n",
      " la Multiplicación es:  1\n",
      " la División pn/sn es:  1.0\n",
      " la División sn/pn es:  1.0\n",
      " pn elevado a la sn es:  1\n",
      " sn elevado a la pn es:  1\n"
     ]
    }
   ],
   "source": [
    "import math as m\n",
    "pn = int(input('ingrese el primer numero'))\n",
    "sn = int(input('ingrese el segundo numero'))\n",
    "\n",
    "\n",
    "print(' la Suma es: ', pn + sn)\n",
    "print(' la Resta es: ', pn - sn)\n",
    "print(' la Multiplicación es: ', pn * sn)\n",
    "print(' la División pn/sn es: ', pn / sn)\n",
    "print(' la División sn/pn es: ', sn / pn)\n",
    "print(' pn elevado a la sn es: ', pn ** sn)\n",
    "print(' sn elevado a la pn es: ', sn ** pn)\n"
   ]
  },
  {
   "cell_type": "markdown",
   "metadata": {},
   "source": [
    "# ejercicios con estructuras básicas de pyhton\n"
   ]
  },
  {
   "cell_type": "markdown",
   "metadata": {},
   "source": [
    "# tuplas\n",
    "## Crear una variable flotante, integer, boleana y compleja e imprimir el tipo de variable que es.\n",
    "\n",
    "## Crear una tupla con valores enteros imprimir el primer y ultimo valor.\n",
    "\n",
    "## Añadir 3 valores de string a la tupla.\n",
    "\n",
    "## Verificar si una variable existe dentro de la tupla."
   ]
  },
  {
   "cell_type": "code",
   "execution_count": 22,
   "metadata": {},
   "outputs": [
    {
     "name": "stdout",
     "output_type": "stream",
     "text": [
      "0.5 <class 'float'>\n",
      "10 <class 'int'>\n",
      "True <class 'bool'>\n",
      "(1+1j) <class 'complex'>\n"
     ]
    }
   ],
   "source": [
    "variable = (0.5,10, True, 1+1j)\n",
    "for i in range(len(variable)):\n",
    "    print(variable[i],type(variable[i]))"
   ]
  },
  {
   "cell_type": "code",
   "execution_count": 24,
   "metadata": {},
   "outputs": [
    {
     "name": "stdout",
     "output_type": "stream",
     "text": [
      "El primer valor es 1\n",
      "El ultimo valor es 1000\n"
     ]
    }
   ],
   "source": [
    "tupla = (1,10,100,1000)\n",
    "print('El primer valor es', tupla[0])\n",
    "print('El ultimo valor es', tupla[len(tupla)-1])"
   ]
  },
  {
   "cell_type": "code",
   "execution_count": 25,
   "metadata": {},
   "outputs": [
    {
     "name": "stdout",
     "output_type": "stream",
     "text": [
      "(1, 10, 100, 1000, 'a', 'b', 'c')\n"
     ]
    }
   ],
   "source": [
    "tupla = (1,10,100,1000)\n",
    "lista = list(tupla)\n",
    "lista.append('a')\n",
    "lista.append('b')\n",
    "lista.append('c')\n",
    "tupla = tuple(lista)\n",
    "print(tupla)"
   ]
  },
  {
   "cell_type": "code",
   "execution_count": 28,
   "metadata": {},
   "outputs": [
    {
     "name": "stdout",
     "output_type": "stream",
     "text": [
      "ingrese el valor100\n",
      "el valor si esta en la tupla en la posicion 2\n"
     ]
    }
   ],
   "source": [
    "x = 0\n",
    "tupla = (1,10,100,1000)\n",
    "lis = int(input('ingrese el valor'))\n",
    "for i in range(len(tupla)):\n",
    "    if lis == tupla[i]:\n",
    "        x = x+1\n",
    "if x == 0:\n",
    "    print('el valor no esta en la tupla')\n",
    "else:\n",
    "    print('el valor si esta en la tupla en la posicion',tupla.index(lis))"
   ]
  },
  {
   "cell_type": "markdown",
   "metadata": {},
   "source": [
    "# Listas\n",
    "## Crear una lista con 40 elementos aleatorios enteros.\n",
    "\n",
    "## Con una funcion (def) crear dos listas nuevas a partir de la lista creada por numeros aleatorios, en la cual en una esten los elementos pares, y en la otra los elementos impares.\n",
    "\n",
    "## Crear dos variables con la longitud de ambas listas nuevas e imprimir las variables.\n",
    "\n",
    "## Ordenar los elementos de la lista par de mayor a menor, y los de la lista impar de menor a mayor.\n",
    "\n",
    "## Utilizar al menos cuatro de las funciones de listas en python en la lista original de 40 elementos."
   ]
  },
  {
   "cell_type": "code",
   "execution_count": 29,
   "metadata": {},
   "outputs": [
    {
     "name": "stdout",
     "output_type": "stream",
     "text": [
      "[97, 64, 49, 91, 0, 56, 4, 5, 3, 92, 33, 80, 58, 90, 56, 74, 57, 21, 41, 40, 54, 22, 27, 77, 42, 63, 33, 70, 10, 97, 27, 38, 48, 98, 10, 6, 78, 61, 42, 50]\n"
     ]
    }
   ],
   "source": [
    "import random as r\n",
    "i = 0\n",
    "lista = []\n",
    "for i in range(40):\n",
    "    listas = int(r.random()*100)\n",
    "    lista.append(listas)\n",
    "print(lista)"
   ]
  },
  {
   "cell_type": "code",
   "execution_count": 37,
   "metadata": {},
   "outputs": [
    {
     "name": "stdout",
     "output_type": "stream",
     "text": [
      "numeros pares [62, 26, 38, 46, 96, 4, 96, 4, 56, 30, 54, 68, 56, 74, 26, 2, 60, 58]\n",
      "numeros impares [97, 25, 57, 39, 25, 63, 67, 95, 59, 89, 79, 97, 19, 41, 91, 11, 95, 87, 99, 39, 3, 63]\n"
     ]
    }
   ],
   "source": [
    "import random as r\n",
    "i = 0\n",
    "lista = []\n",
    "for i in range(40):\n",
    "    listas = int(r.random()*100)\n",
    "    lista.append(listas)\n",
    "\n",
    "def variables(x):\n",
    "    j = 0\n",
    "    pares = []\n",
    "    impares = []\n",
    "    for j in range(40):\n",
    "        if lista[j] % 2 == 0:\n",
    "            pares.append(lista[j])\n",
    "        else:\n",
    "            impares.append(lista[j])\n",
    "    print('numeros pares',pares)\n",
    "    print('numeros impares',impares)\n",
    "variables(lista)\n",
    "    "
   ]
  },
  {
   "cell_type": "code",
   "execution_count": 39,
   "metadata": {},
   "outputs": [
    {
     "name": "stdout",
     "output_type": "stream",
     "text": [
      "numeros pares [20, 0, 86, 16, 32, 80, 60, 40, 16, 56, 90, 80, 92, 96, 80, 52]\n",
      "numeros impares [45, 51, 75, 25, 53, 65, 47, 11, 99, 47, 95, 33, 19, 5, 59, 61, 57, 31, 15, 41, 11, 75, 33, 25]\n",
      "la lista pares tiene 16 valores\n",
      "la lista impares tiene 24 valores\n"
     ]
    }
   ],
   "source": [
    "import random as r\n",
    "i = 0\n",
    "lista = []\n",
    "for i in range(40):\n",
    "    listas = int(r.random()*100)\n",
    "    lista.append(listas)\n",
    "\n",
    "def variables(x):\n",
    "    j = 0\n",
    "    pares = []\n",
    "    impares = []\n",
    "    for j in range(40):\n",
    "        if lista[j] % 2 == 0:\n",
    "            pares.append(lista[j])\n",
    "        else:\n",
    "            impares.append(lista[j])\n",
    "    print('numeros pares',pares)\n",
    "    print('numeros impares',impares)\n",
    "    print('la lista pares tiene',len(pares),'valores')\n",
    "    print('la lista impares tiene',len(impares),'valores')\n",
    "variables(lista)"
   ]
  },
  {
   "cell_type": "code",
   "execution_count": 41,
   "metadata": {},
   "outputs": [
    {
     "name": "stdout",
     "output_type": "stream",
     "text": [
      "numeros pares [96, 28, 52, 88, 2, 18, 70, 6, 52, 54, 34, 56, 62, 6, 28, 48, 92, 78, 96, 40, 28]\n",
      "numeros impares [17, 49, 73, 27, 43, 57, 93, 47, 85, 25, 43, 27, 35, 57, 81, 23, 25, 85, 95]\n",
      "la lista pares tiene 21 valores\n",
      "la lista impares tiene 19 valores\n",
      "Pares de mayor a menor: [96, 96, 92, 88, 78, 70, 62, 56, 54, 52, 52, 48, 40, 34, 28, 28, 28, 18, 6, 6, 2]\n",
      "impares de menor a mayor:  [17, 23, 25, 25, 27, 27, 35, 43, 43, 47, 49, 57, 57, 73, 81, 85, 85, 93, 95]\n"
     ]
    }
   ],
   "source": [
    "import random as r\n",
    "i = 0\n",
    "lista = []\n",
    "for i in range(40):\n",
    "    listas = int(r.random()*100)\n",
    "    lista.append(listas)\n",
    "\n",
    "def variables(x):\n",
    "    j = 0\n",
    "    pares = []\n",
    "    impares = []\n",
    "    for j in range(40):\n",
    "        if lista[j] % 2 == 0:\n",
    "            pares.append(lista[j])\n",
    "        else:\n",
    "            impares.append(lista[j])\n",
    "    print('numeros pares',pares)\n",
    "    print('numeros impares',impares)\n",
    "    print('la lista pares tiene',len(pares),'valores')\n",
    "    print('la lista impares tiene',len(impares),'valores')\n",
    "    print('Pares de mayor a menor:',sorted(pares,reverse=True))\n",
    "    print('impares de menor a mayor: ',sorted(impares))\n",
    "variables(lista)"
   ]
  },
  {
   "cell_type": "code",
   "execution_count": 42,
   "metadata": {},
   "outputs": [
    {
     "name": "stdout",
     "output_type": "stream",
     "text": [
      "lista [93, 10, 83, 27, 33, 11, 88, 79, 43, 88, 16, 55, 13, 5, 36, 42, 39, 96, 71, 35, 57, 4, 68, 96, 68, 88, 19, 40, 33, 64, 73, 24, 41, 29, 81, 27, 53, 71, 89, 95]\n",
      "Suma: 2083\n",
      "Longitud: 40\n",
      "Minimo: 4\n",
      "Maximo: 96\n"
     ]
    }
   ],
   "source": [
    "import random as r\n",
    "i = 0\n",
    "lista = []\n",
    "for i in range(40):\n",
    "    listas = int(r.random()*100)\n",
    "    lista.append(listas)\n",
    "print('lista',lista)\n",
    "print('Suma:',sum(lista))\n",
    "print('Longitud:',len(lista))\n",
    "print('Minimo:',min(lista))\n",
    "print('Maximo:',max(lista))"
   ]
  },
  {
   "cell_type": "markdown",
   "metadata": {},
   "source": [
    "# Diccionarios\n",
    "## Crear un diccionario de 6 personas que conozcas con su primer nombre y su edad.\n",
    "\n",
    "## Crear una lista con los valores de la edad y reacomodar la lista de menor a mayor valor.\n",
    "\n",
    "## Usando el diccionario y un loop, imprimir solo los nombres.\n",
    "\n",
    "## Añadir dos personas nuevas a tu diccionario, incluyendo edad."
   ]
  },
  {
   "cell_type": "code",
   "execution_count": 45,
   "metadata": {},
   "outputs": [
    {
     "name": "stdout",
     "output_type": "stream",
     "text": [
      "{1: ['Marcelo', 21], 2: ['Rodrigo', 21], 3: ['Mauricio', 19], 4: ['Jorge', 21], 5: ['Welsh', 21], 6: ['Marco', 20]}\n"
     ]
    }
   ],
   "source": [
    "diccionario = {1:['Marcelo',21], 2:['Rodrigo',21], 3:['Mauricio',19], 4:['Jorge',21], 5:['Welsh',21], 6:['Marco',20]}\n",
    "print(diccionario)"
   ]
  },
  {
   "cell_type": "code",
   "execution_count": 46,
   "metadata": {},
   "outputs": [
    {
     "name": "stdout",
     "output_type": "stream",
     "text": [
      "edad ordenada [19, 20, 21, 21, 21, 21]\n"
     ]
    }
   ],
   "source": [
    "diccionario = {1:['Marcelo',21], 2:['Rodrigo',21], 3:['Mauricio',19], 4:['Jorge',21], 5:['Welsh',21], 6:['Marco',20]}\n",
    "edad = []\n",
    "for i in range(1,7):\n",
    "    edad.append(diccionario[i][1])\n",
    "print('edad ordenada',sorted(edad))\n"
   ]
  },
  {
   "cell_type": "code",
   "execution_count": 47,
   "metadata": {},
   "outputs": [
    {
     "name": "stdout",
     "output_type": "stream",
     "text": [
      "1 Marcelo\n",
      "2 Rodrigo\n",
      "3 Mauricio\n",
      "4 Jorge\n",
      "5 Welsh\n",
      "6 Marco\n"
     ]
    }
   ],
   "source": [
    "diccionario = {1:['Marcelo',21], 2:['Rodrigo',21], 3:['Mauricio',19], 4:['Jorge',21], 5:['Welsh',21], 6:['Marco',20]}\n",
    "for i in range (1,7):\n",
    "    print(i,diccionario[i][0])\n",
    "    "
   ]
  },
  {
   "cell_type": "code",
   "execution_count": 49,
   "metadata": {},
   "outputs": [
    {
     "name": "stdout",
     "output_type": "stream",
     "text": [
      "nombres de las personas nuevas\n",
      "nombrea\n",
      "edad1\n",
      "nombreb\n",
      "edad2\n",
      "{1: ['Marcelo', 21], 2: ['Rodrigo', 21], 3: ['Mauricio', 19], 4: ['Jorge', 21], 5: ['Welsh', 21], 6: ['Marco', 20], 7: ['a', 1], 8: ['b', 2]}\n"
     ]
    }
   ],
   "source": [
    "diccionario = {1:['Marcelo',21], 2:['Rodrigo',21], 3:['Mauricio',19], 4:['Jorge',21], 5:['Welsh',21], 6:['Marco',20]}\n",
    "print('nombres de las personas nuevas')\n",
    "nombre1 = input('nombre')\n",
    "edad1 = int(input('edad'))\n",
    "nombre2 = input('nombre')\n",
    "edad2 = int(input('edad'))\n",
    "diccionario[7] = [nombre1, edad1]\n",
    "diccionario[8] = [nombre2, edad2]\n",
    "print(diccionario)"
   ]
  },
  {
   "cell_type": "markdown",
   "metadata": {},
   "source": [
    "# Sets\n",
    "## rea un set con 100 numeros aleatorios enteros del 1 al 25.\n",
    "\n",
    "## Comprueba la longitud de tu set.\n",
    "\n",
    "## Crea una lista de 5 numeros aleatorios del 1 al 10 y comprueba si cada valor aparece en el set inicial."
   ]
  },
  {
   "cell_type": "code",
   "execution_count": 50,
   "metadata": {},
   "outputs": [
    {
     "name": "stdout",
     "output_type": "stream",
     "text": [
      "set {1.26, 2.53, 3.08, 3.87, 1.52, 4.46, 6.22, 7.71, 8.71, 9.88, 10.11, 11.34, 12.65, 13.85, 7.74, 8.04, 16.69, 16.93, 18.64, 16.9, 20.44, 20.91, 22.29, 15.8, 16.09, 19.39, 24.69, 23.54, 23.75, 22.85, 23.41, 23.52, 6.82, 5.18, 7.32, 8.64, 8.5, 2.61, 8.61, 2.93, 9.18, 10.07, 10.25, 14.79, 2.79, 16.04, 16.21, 16.22, 4.11, 17.33, 17.96, 18.29, 18.93, 6.11, 19.86, 20.64, 20.36, 20.82, 21.18, 3.9, 23.4, 2.26, 6.65, 1.69, 8.22, 8.01, 10.12, 11.33, 11.72, 5.69, 6.05, 4.82, 3.09, 10.7, 1.88, 14.95, 14.05, 14.7, 14.66, 16.34, 17.19, 5.88, 18.73, 18.16, 1.06, 21.48, 2.31, 21.69, 22.87, 23.49, 4.85, 9.13, 9.03, 3.1, 9.53, 9.74, 13.99, 13.24, 15.63, 15.67}\n"
     ]
    }
   ],
   "source": [
    "import random as r\n",
    "sets = []\n",
    "while len(sets) < 100:\n",
    "    x1 = r.uniform(1,25)\n",
    "    x2 = round(x1,2)\n",
    "    sets.append(x2)\n",
    "    sets = list(set(sets))\n",
    "print('set',set(sets))"
   ]
  },
  {
   "cell_type": "code",
   "execution_count": 51,
   "metadata": {},
   "outputs": [
    {
     "name": "stdout",
     "output_type": "stream",
     "text": [
      "set {1.76, 2.66, 2.16, 2.59, 4.47, 2.63, 2.74, 4.7, 7.83, 8.65, 9.48, 10.22, 11.45, 12.5, 13.64, 11.79, 15.23, 16.91, 17.91, 18.15, 16.35, 20.9, 17.64, 20.76, 24.41, 17.24, 22.29, 24.89, 24.3, 24.22, 6.68, 23.35, 24.53, 7.32, 8.18, 8.93, 9.89, 10.25, 10.18, 10.5, 11.39, 11.57, 12.32, 12.39, 14.29, 15.64, 16.61, 17.22, 18.92, 6.22, 19.15, 19.57, 20.32, 22.85, 2.76, 8.62, 2.19, 10.44, 10.26, 12.97, 12.22, 14.26, 15.51, 15.22, 15.94, 3.62, 6.3, 3.23, 4.66, 1.34, 4.23, 5.16, 8.05, 8.48, 9.16, 11.05, 13.91, 2.88, 15.05, 16.24, 16.09, 16.45, 4.31, 5.88, 19.2, 19.77, 20.84, 20.74, 22.06, 23.95, 1.67, 2.99, 3.67, 10.56, 11.31, 12.13, 12.74, 15.53, 15.42, 15.6}\n",
      "la longitud es 100\n"
     ]
    }
   ],
   "source": [
    "import random as r\n",
    "sets = []\n",
    "while len(sets) < 100:\n",
    "    x1 = r.uniform(1,25)\n",
    "    x2 = round(x1,2)\n",
    "    sets.append(x2)\n",
    "    sets = list(set(sets))\n",
    "print('set',set(sets))\n",
    "print('la longitud es',len(sets))"
   ]
  },
  {
   "cell_type": "code",
   "execution_count": 53,
   "metadata": {},
   "outputs": [
    {
     "name": "stdout",
     "output_type": "stream",
     "text": [
      "set {1.88, 2.78, 3.77, 4.54, 1.54, 6.73, 7.77, 7.82, 7.9, 7.58, 9.73, 9.18, 13.6, 6.18, 11.98, 16.3, 17.93, 17.97, 19.73, 20.18, 21.6, 21.13, 20.59, 19.76, 22.68, 22.3, 21.39, 21.67, 24.95, 23.73, 24.16, 24.14, 24.56, 8.75, 9.61, 9.71, 9.64, 12.18, 13.96, 15.5, 16.64, 16.1, 17.9, 17.65, 18.64, 6.86, 19.46, 7.47, 20.58, 20.78, 20.46, 3.15, 23.32, 23.6, 4.51, 4.01, 6.4, 10.26, 10.01, 12.08, 2.87, 15.22, 15.26, 4.3, 7.87, 4.32, 1.27, 8.55, 8.59, 10.59, 10.95, 10.55, 11.84, 14.7, 2.45, 3.7, 16.06, 16.73, 5.38, 18.69, 6.45, 19.91, 19.55, 20.48, 1.56, 20.37, 21.95, 23.62, 24.27, 5.49, 5.17, 8.13, 8.63, 2.03, 11.74, 13.24, 13.56, 15.42, 15.06, 5.78}\n",
      "la longitud es 100\n",
      "lista random [9.28, 6.18, 1.78, 6.04, 8.49]\n",
      "6.18 aparece en la posicion 13\n"
     ]
    }
   ],
   "source": [
    "import random as r\n",
    "sets = []\n",
    "setsr = []\n",
    "a = 0\n",
    "while len(sets) < 100:\n",
    "    x1 = r.uniform(1,25)\n",
    "    x2 = round(x1,2)\n",
    "    sets.append(x2)\n",
    "    sets = list(set(sets))\n",
    "print('set',set(sets))\n",
    "print('la longitud es',len(sets))\n",
    "\n",
    "for i in range(5):\n",
    "    x1 = r.uniform(1,10)\n",
    "    x2 = round(x1,2)\n",
    "    setsr.append(x2)\n",
    "print('lista random',setsr)\n",
    "\n",
    "for i in range (5):\n",
    "    for j in range(len(sets)):\n",
    "        if setsr[i] == sets[j]:\n",
    "            print(setsr[i],'aparece en la posicion',sets.index(setsr[i]))\n",
    "            a += 1\n",
    "if a == 0:\n",
    "    print('ningun valor aparece')"
   ]
  },
  {
   "cell_type": "code",
   "execution_count": null,
   "metadata": {},
   "outputs": [],
   "source": []
  }
 ],
 "metadata": {
  "kernelspec": {
   "display_name": "Python 3",
   "language": "python",
   "name": "python3"
  },
  "language_info": {
   "codemirror_mode": {
    "name": "ipython",
    "version": 3
   },
   "file_extension": ".py",
   "mimetype": "text/x-python",
   "name": "python",
   "nbconvert_exporter": "python",
   "pygments_lexer": "ipython3",
   "version": "3.8.3"
  }
 },
 "nbformat": 4,
 "nbformat_minor": 4
}
